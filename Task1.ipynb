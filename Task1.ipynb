{
 "cells": [
  {
   "cell_type": "markdown",
   "id": "e16e0dd8",
   "metadata": {},
   "source": [
    "# TASK1"
   ]
  },
  {
   "cell_type": "code",
   "execution_count": 2,
   "id": "5349bfd9",
   "metadata": {},
   "outputs": [
    {
     "name": "stdout",
     "output_type": "stream",
     "text": [
      "Chatbot: Hello! How can I assist you today?\n",
      "User: hi\n",
      "Chatbot: Hello! How can I assist you today?\n",
      "User: who are you\n",
      "Chatbot: I'm a simple chatbot designed to assist you. Feel free to ask me anything!\n",
      "User: tell me the weather forecast\n",
      "Chatbot: Its cold today and rain is expected.\n",
      "User: bye\n",
      "Chatbot: Goodbye! Have a great day!\n"
     ]
    }
   ],
   "source": [
    "def chatbot_response(user_input):\n",
    "    user_input = user_input.lower()\n",
    "    greetings = ['hi', 'hello', 'hey', 'greetings']\n",
    "    farewells = ['bye', 'goodbye', 'see you', 'take care']\n",
    "    about_bot = ['who are you', 'what are you', 'tell me about yourself']\n",
    "    weather_queries = ['what is the weather like today?', 'tell me the weather forecast', 'weather update']\n",
    "    favorite_color_queries = ['what is your favorite color?', 'tell me about your preferences']\n",
    "    default_response = \"I'm sorry, I didn't understand that.\"\n",
    "\n",
    "    if user_input in greetings:\n",
    "        return \"Hello! How can I assist you today?\"\n",
    "\n",
    "    elif user_input in farewells:\n",
    "        return \"Goodbye! Have a great day!\"\n",
    "\n",
    "    elif any(word in user_input for word in about_bot):\n",
    "        return \"I'm a simple chatbot designed to assist you. Feel free to ask me anything!\"\n",
    "\n",
    "    elif any(word in user_input for word in weather_queries):\n",
    "        return \"Its cold today and rain is expected.\"\n",
    "\n",
    "    elif any(word in user_input for word in favorite_color_queries):\n",
    "        return \"I like this world's color.\"\n",
    "\n",
    "    else:\n",
    "        return default_response\n",
    "\n",
    "print(\"Chatbot: Hello! How can I assist you today?\")\n",
    "\n",
    "while True:\n",
    "    user_query = input(\"User: \")\n",
    "    response = chatbot_response(user_query)\n",
    "    print(\"Chatbot:\", response)\n",
    "\n",
    "    if response == \"Goodbye! Have a great day!\":\n",
    "        break\n"
   ]
  }
 ],
 "metadata": {
  "kernelspec": {
   "display_name": "Python 3 (ipykernel)",
   "language": "python",
   "name": "python3"
  },
  "language_info": {
   "codemirror_mode": {
    "name": "ipython",
    "version": 3
   },
   "file_extension": ".py",
   "mimetype": "text/x-python",
   "name": "python",
   "nbconvert_exporter": "python",
   "pygments_lexer": "ipython3",
   "version": "3.11.4"
  }
 },
 "nbformat": 4,
 "nbformat_minor": 5
}
