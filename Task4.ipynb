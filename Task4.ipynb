{
 "cells": [
  {
   "cell_type": "code",
   "execution_count": 1,
   "id": "a215c62c",
   "metadata": {},
   "outputs": [
    {
     "name": "stdout",
     "output_type": "stream",
     "text": [
      "Enter User Id: 1\n",
      "Top 5 recommended movies for User 1:\n",
      "title\n",
      "Titanic                  7.498780\n",
      "Avengers Endgame         7.123475\n",
      "Avatar                   3.123475\n",
      "Avengers Infinity War    0.000000\n",
      "dtype: float64\n"
     ]
    }
   ],
   "source": [
    "import pandas as pd\n",
    "from sklearn.metrics.pairwise import cosine_similarity\n",
    "\n",
    "movies_data = {\n",
    "    'movieId': [1, 2, 3, 4, 5],\n",
    "    'title': ['Titanic', 'Avengers Endgame', 'Avatar', 'Avengers Infinity War', 'Culpa Mia']\n",
    "}\n",
    "\n",
    "ratings_data = {\n",
    "    'userId': [1, 1, 2, 2, 3],\n",
    "    'movieId': [1, 2, 2, 3, 4],\n",
    "    'rating': [5, 4, 5, 3, 4]\n",
    "}\n",
    "\n",
    "movies = pd.DataFrame(movies_data)\n",
    "ratings = pd.DataFrame(ratings_data)\n",
    "\n",
    "movie_ratings = pd.merge(ratings, movies, on='movieId')\n",
    "\n",
    "user_movie_ratings = movie_ratings.pivot_table(index='userId', columns='title', values='rating', fill_value=0)\n",
    "\n",
    "movie_similarity = cosine_similarity(user_movie_ratings.T)\n",
    "\n",
    "def recommend_movies(user_preferences, movie_similarity):\n",
    "    similar_scores = movie_similarity.dot(user_preferences)\n",
    "    recommended_movies = pd.Series(similar_scores, index=user_movie_ratings.columns)\n",
    "    recommended_movies = recommended_movies.sort_values(ascending=False)\n",
    "    return recommended_movies\n",
    "\n",
    "target_user_id = int(input(\"Enter User Id: \"))\n",
    "user_preferences = user_movie_ratings.loc[target_user_id].values\n",
    "recommended_movies = recommend_movies(user_preferences, movie_similarity)\n",
    "\n",
    "top_n = 5\n",
    "print(f\"Top {top_n} recommended movies for User {target_user_id}:\")\n",
    "print(recommended_movies.head(top_n))\n"
   ]
  },
  {
   "cell_type": "code",
   "execution_count": null,
   "id": "6edf10c3",
   "metadata": {},
   "outputs": [],
   "source": []
  }
 ],
 "metadata": {
  "kernelspec": {
   "display_name": "Python 3 (ipykernel)",
   "language": "python",
   "name": "python3"
  },
  "language_info": {
   "codemirror_mode": {
    "name": "ipython",
    "version": 3
   },
   "file_extension": ".py",
   "mimetype": "text/x-python",
   "name": "python",
   "nbconvert_exporter": "python",
   "pygments_lexer": "ipython3",
   "version": "3.11.4"
  }
 },
 "nbformat": 4,
 "nbformat_minor": 5
}
